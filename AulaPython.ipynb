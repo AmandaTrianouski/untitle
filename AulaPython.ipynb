{
  "nbformat": 4,
  "nbformat_minor": 0,
  "metadata": {
    "colab": {
      "provenance": [],
      "name": "AulaPython.ipynb",
      "authorship_tag": "ABX9TyMUB3i1vFi6wx4s8RsYjflz",
      "include_colab_link": true
    },
    "kernelspec": {
      "name": "python3",
      "display_name": "Python 3"
    },
    "language_info": {
      "name": "python"
    }
  },
  "cells": [
    {
      "cell_type": "markdown",
      "metadata": {
        "id": "view-in-github",
        "colab_type": "text"
      },
      "source": [
        "<a href=\"https://colab.research.google.com/github/AmandaTrianouski/untitle/blob/main/AulaPython.ipynb\" target=\"_parent\"><img src=\"https://colab.research.google.com/assets/colab-badge.svg\" alt=\"Open In Colab\"/></a>"
      ]
    },
    {
      "cell_type": "markdown",
      "source": [
        "aula 1"
      ],
      "metadata": {
        "id": "bK7fruxanWJJ"
      }
    },
    {
      "cell_type": "code",
      "source": [
        "print(\"I competição de programação dá Start\")\n"
      ],
      "metadata": {
        "colab": {
          "base_uri": "https://localhost:8080/"
        },
        "id": "Ea6JkDzxnlmQ",
        "outputId": "9b4a2a2f-fecc-49fd-ef22-33e7dce4dfc1"
      },
      "execution_count": null,
      "outputs": [
        {
          "output_type": "stream",
          "name": "stdout",
          "text": [
            "I competição de programação dá Start\n"
          ]
        }
      ]
    },
    {
      "cell_type": "code",
      "source": [
        "ano = \"VI\""
      ],
      "metadata": {
        "id": "m5m7OLTtonu2"
      },
      "execution_count": null,
      "outputs": []
    },
    {
      "cell_type": "code",
      "source": [
        "print(ano, \"competição de programação da Start\")"
      ],
      "metadata": {
        "colab": {
          "base_uri": "https://localhost:8080/"
        },
        "id": "lG4EeOlNpK76",
        "outputId": "cdd2a23c-45ea-4c93-eeaa-1abbf006a1fc"
      },
      "execution_count": null,
      "outputs": [
        {
          "output_type": "stream",
          "name": "stdout",
          "text": [
            "VI competição de programação da Start\n"
          ]
        }
      ]
    },
    {
      "cell_type": "markdown",
      "source": [
        "aula 2"
      ],
      "metadata": {
        "id": "87Tr7kQmhoDY"
      }
    },
    {
      "cell_type": "code",
      "source": [
        "livro_ficcao = 8\n",
        "livro_n_ficcao = 10\n",
        "livro_infantil = 6\n",
        "\n",
        "pontos_rodrigo = livro_ficcao + livro_n_ficcao + livro_infantil\n",
        "\n",
        "print(f\"Os pontos totais do Rodrigo são {pontos_rodrigo}\")"
      ],
      "metadata": {
        "colab": {
          "base_uri": "https://localhost:8080/"
        },
        "id": "X8_WKIyRhqyZ",
        "outputId": "5552034e-0a3d-4dce-a91a-75e8f4848d7f"
      },
      "execution_count": null,
      "outputs": [
        {
          "output_type": "stream",
          "name": "stdout",
          "text": [
            "Os pontos totais do Rodrigo são 24\n"
          ]
        }
      ]
    },
    {
      "cell_type": "code",
      "source": [
        "livro_ficcao = 8\n",
        "livro_n_ficcao = 10\n",
        "livro_infantil = 6\n",
        "\n",
        "pontos_ana = 2*livro_ficcao + 5*livro_infantil\n",
        "\n",
        "print(f\"Os pontos totais do Rodrigo são {pontos_ana}\")"
      ],
      "metadata": {
        "colab": {
          "base_uri": "https://localhost:8080/"
        },
        "id": "FbVpFLwpkpkF",
        "outputId": "5d99d1e2-fb83-414c-869e-126ba3164916"
      },
      "execution_count": null,
      "outputs": [
        {
          "output_type": "stream",
          "name": "stdout",
          "text": [
            "Os pontos totais do Rodrigo são 46\n"
          ]
        }
      ]
    },
    {
      "cell_type": "code",
      "source": [
        "livro_ficcao = 8\n",
        "livro_n_ficcao = 10\n",
        "livro_infantil = 6\n",
        "\n",
        "pontos_carlos = livro_ficcao + 3*livro_n_ficcao + 3*livro_infantil\n",
        "\n",
        "print(f\"Os pontos totais do Carlos são {pontos_carlos}\")"
      ],
      "metadata": {
        "colab": {
          "base_uri": "https://localhost:8080/"
        },
        "id": "qRPTJxpTo5My",
        "outputId": "b7d749bb-74c4-42d0-d092-d22baad27479"
      },
      "execution_count": null,
      "outputs": [
        {
          "output_type": "stream",
          "name": "stdout",
          "text": [
            "Os pontos totais do Carlos são 56\n"
          ]
        }
      ]
    },
    {
      "cell_type": "code",
      "source": [
        "livro_ficcao = 8\n",
        "livro_n_ficcao = 10\n",
        "livro_infantil = 6\n",
        "\n",
        "pontos_ana = 2*livro_ficcao + 5*livro_infantil\n",
        "\n",
        "pontos_rodrigo = livro_ficcao + livro_n_ficcao + livro_infantil\n",
        "\n",
        "pontos_carlos = livro_ficcao + 3*livro_n_ficcao + 3*livro_infantil\n",
        "\n",
        "print(f\"A soma total dos pontos de Rodrigo, Ana e carlos é de {pontos_ana + pontos_rodrigo + pontos_carlos}\")"
      ],
      "metadata": {
        "colab": {
          "base_uri": "https://localhost:8080/"
        },
        "id": "xeGLOJIOkqeU",
        "outputId": "33b807fb-155c-44b5-b6a0-50d06b0e7387"
      },
      "execution_count": null,
      "outputs": [
        {
          "output_type": "stream",
          "name": "stdout",
          "text": [
            "A soma total dos pontos de Rodrigo, Ana e carlos é de 126\n"
          ]
        }
      ]
    },
    {
      "cell_type": "code",
      "source": [
        "fase_facil =10\n",
        "fase_media = 25\n",
        "fase_deficil = 50\n",
        "fase_lendaria = 100\n",
        "fases_jogadas = 7\n",
        "\n",
        "pontos_totais = 3*fase_facil + 2*fase_media + fase_deficil + fase_lendaria\n",
        "\n",
        "media_de_pontos = pontos_totais // fases_jogadas\n",
        "\n",
        "print(f\"Os pontos totais de Marcelo são {pontos_totais} e sua media é { media_de_pontos}\")"
      ],
      "metadata": {
        "colab": {
          "base_uri": "https://localhost:8080/"
        },
        "id": "7eK5yabClnDV",
        "outputId": "d82be698-77db-4f9f-d46b-ae6999eabc03"
      },
      "execution_count": null,
      "outputs": [
        {
          "output_type": "stream",
          "name": "stdout",
          "text": [
            "Os pontos totais de Marcelo são 230 e sua media é 32\n"
          ]
        }
      ]
    }
  ]
}