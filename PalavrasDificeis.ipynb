{
  "nbformat": 4,
  "nbformat_minor": 0,
  "metadata": {
    "colab": {
      "provenance": [],
      "collapsed_sections": [
        "CqKoJtJ70wNz",
        "m7IpEnDd1FQb",
        "uXJ_cEKC1Qt1"
      ],
      "authorship_tag": "ABX9TyM/nD33YjA4fPjj8+lSy+Pw",
      "include_colab_link": true
    },
    "kernelspec": {
      "name": "python3",
      "display_name": "Python 3"
    },
    "language_info": {
      "name": "python"
    }
  },
  "cells": [
    {
      "cell_type": "markdown",
      "metadata": {
        "id": "view-in-github",
        "colab_type": "text"
      },
      "source": [
        "<a href=\"https://colab.research.google.com/github/AmandaTrianouski/untitle/blob/main/PalavrasDificeis.ipynb\" target=\"_parent\"><img src=\"https://colab.research.google.com/assets/colab-badge.svg\" alt=\"Open In Colab\"/></a>"
      ]
    },
    {
      "cell_type": "markdown",
      "source": [
        "**Palavras Difices - Saeb 💥 😣**\n",
        "\n",
        "![kkkk.jpg](data:image/jpeg;base64,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)"
      ],
      "metadata": {
        "id": "A15Ze7Bzs9-N"
      }
    },
    {
      "cell_type": "markdown",
      "source": [
        "##Enunciado 1 🐱\n"
      ],
      "metadata": {
        "id": "CqKoJtJ70wNz"
      }
    },
    {
      "cell_type": "markdown",
      "source": [
        "**11 - (MTI31081PR25) Imagine que você está desenvolvendo uma seção de comentários em uma rede social. Cada comentário terá um contador de curtidas. Analise o código que demonstra a implementação deste contador usando HTML e JavaScript.**\n",
        "\n",
        "\n",
        "01 < div id=\"comentario\">\n",
        "\n",
        "02 < p>Gostou do post? Curte!</p>\n",
        "\n",
        "03 < span id=\"curtidas\">0</span> curtidas\n",
        "\n",
        "04 < button id=\"botao-curtir\">Curtir</button>\n",
        "\n",
        "05 < /div>\n",
        "\n",
        "06\n",
        "\n",
        "07 < script>\n",
        "\n",
        "08 let numCurtidas = 0;\n",
        "\n",
        "09 const botaoCurtir = document.getElementById(\"botao-curtir\");\n",
        "\n",
        "10 const contadorCurtidas = document.getElementById(\"curtidas\");\n",
        "\n",
        "11 botaoCurtir.addEventListener(\"click\", function() {\n",
        "\n",
        "12 numCurtidas = numCurtidas + 1;\n",
        "\n",
        "13 contadorCurtidas.textContent = numCurtidas;\n",
        "\n",
        "14 });\n",
        "\n",
        "15 < /script>\n",
        "\n",
        "\n",
        " **Na linha 08 o código descreve que o contador de curtidas inicia no valor 0. Qual alternativa indica o valor exibido em <span id=\"curtidas\"> após clicar no botão \"Curtir\" duas vezes?**\n"
      ],
      "metadata": {
        "id": "HEvdXjoyveUa"
      }
    },
    {
      "cell_type": "markdown",
      "source": [
        "**Palavras difíces da questão:**\n",
        "\n",
        "♦ V=document.getElementById\n",
        "\n",
        "♦ addEventListener\n",
        "\n",
        "♦ getElementById"
      ],
      "metadata": {
        "id": "EhVeEQ3pz5od"
      }
    },
    {
      "cell_type": "markdown",
      "source": [
        "##Enunciado 2 🙀"
      ],
      "metadata": {
        "id": "m7IpEnDd1FQb"
      }
    },
    {
      "cell_type": "markdown",
      "source": [
        "**12 - (MTI31201PR25) Em um sistema de estacionamento, o valor cobrado depende do número de horas que o carro ficou estacionado. A cada hora completa, é cobrado R$ 5,00, e o valor total é calculado somente se o tempo for maior que zero. O código a seguir verifica o tempo estacionado e retorna o valor a ser pago:**\n",
        "\n",
        "\n",
        "function calculaEstacionamento(horasTotais) {\n",
        "\n",
        "if (horasTotais > 0) {\n",
        "\n",
        "let valorTotal = horasTotais * 5;\n",
        "\n",
        "return `Total a pagar: R$ ${valorTotal}`;\n",
        "\n",
        "} else {\n",
        "\n",
        "return \"Nenhum valor a pagar.\";\n",
        "\n",
        "}\n",
        "\n",
        "}\n",
        "\n",
        "**Ao chamar a função com o parâmetro horasTotais sendo 3, qual será a saída do código?**\n",
        ""
      ],
      "metadata": {
        "id": "t-lh3OKRxlaE"
      }
    },
    {
      "cell_type": "markdown",
      "source": [
        "**Palavras difíces da questão:**\n",
        "\n",
        "♦ let\n",
        "\n",
        "♦ } else {\n",
        "\n",
        "♦ return"
      ],
      "metadata": {
        "id": "gcfg-5LV0Gau"
      }
    },
    {
      "cell_type": "markdown",
      "source": [
        "##Enunciado 3 😽"
      ],
      "metadata": {
        "id": "uXJ_cEKC1Qt1"
      }
    },
    {
      "cell_type": "markdown",
      "source": [
        "**13 - (MTI31191PR25) O código JavaScript implementa um contador de curtidas, mas a lógica de atualização está diretamente dentro do addEventListener. Agrupar todas as tarefas necessárias em uma função é considerado uma boa prática neste caso. Para isso, a função deve:**\n",
        "\n",
        "● Receber o número de curtidas atual como parâmetro de entrada.\n",
        "\n",
        "● Incrementar esse número em 1.\n",
        "\n",
        "● Atualizar o textContent do elemento com o id curtidas.\n",
        "\n",
        "● Retornar o novo número de curtidas.\n",
        "\n",
        "**Identifique a alternativa que apresenta a função que atualiza o contador de curtidas.**"
      ],
      "metadata": {
        "id": "1BinKdREyPVw"
      }
    },
    {
      "cell_type": "markdown",
      "source": [
        "**Palavras difíces da questão:**\n",
        "\n",
        " ♦ numeroAtual++;\n",
        "\n",
        " ♦ return numeroAtual;"
      ],
      "metadata": {
        "id": "QwtTdq0f0Le3"
      }
    }
  ]
}